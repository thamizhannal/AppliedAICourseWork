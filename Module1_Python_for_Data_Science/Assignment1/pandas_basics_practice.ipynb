{
 "cells": [
  {
   "cell_type": "markdown",
   "metadata": {
    "id": "WFYuAxS2hcu6"
   },
   "source": [
    "**Consider the following Python dictionary data and Python list labels:**\n",
    "\n",
    "data = {'birds': ['Cranes', 'Cranes', 'plovers', 'spoonbills', 'spoonbills', 'Cranes', 'plovers', 'Cranes', 'spoonbills', 'spoonbills'],\n",
    "        'age': [3.5, 4, 1.5, np.nan, 6, 3, 5.5, np.nan, 8, 4],\n",
    "        'visits': [2, 4, 3, 4, 3, 4, 2, 2, 3, 2],\n",
    "        'priority': ['yes', 'yes', 'no', 'yes', 'no', 'no', 'no', 'yes', 'no', 'no']}\n",
    "\n",
    "labels = ['a', 'b', 'c', 'd', 'e', 'f', 'g', 'h', 'i', 'j']\n"
   ]
  },
  {
   "cell_type": "markdown",
   "metadata": {
    "id": "KaY8jRX3hcu9"
   },
   "source": [
    "**1. Create a DataFrame birds from this dictionary data which has the index labels.**"
   ]
  },
  {
   "cell_type": "code",
   "execution_count": null,
   "metadata": {
    "id": "AWrM74tnhcu_"
   },
   "outputs": [],
   "source": []
  },
  {
   "cell_type": "markdown",
   "metadata": {
    "id": "31bQ4H55hcvG"
   },
   "source": [
    "**2. Display a summary of the basic information about birds DataFrame and its data.**"
   ]
  },
  {
   "cell_type": "code",
   "execution_count": null,
   "metadata": {
    "id": "PT7e5BiThcvI"
   },
   "outputs": [],
   "source": []
  },
  {
   "cell_type": "markdown",
   "metadata": {
    "id": "ppsyynzjhcvN"
   },
   "source": [
    "**3. Print the first 2 rows of the birds dataframe **"
   ]
  },
  {
   "cell_type": "code",
   "execution_count": null,
   "metadata": {
    "id": "mJtG2ES9hcvQ"
   },
   "outputs": [],
   "source": []
  },
  {
   "cell_type": "markdown",
   "metadata": {
    "id": "331CiAQDhcvW"
   },
   "source": [
    "**4. Print all the rows with only 'birds' and 'age' columns from the dataframe**"
   ]
  },
  {
   "cell_type": "code",
   "execution_count": null,
   "metadata": {
    "id": "eJm1icJhhcvY"
   },
   "outputs": [],
   "source": []
  },
  {
   "cell_type": "markdown",
   "metadata": {
    "id": "33v_rzNyhcvf"
   },
   "source": [
    "**5. select [2, 3, 7] rows and in columns ['birds', 'age', 'visits']**"
   ]
  },
  {
   "cell_type": "code",
   "execution_count": null,
   "metadata": {
    "id": "ia5weqCOhcvh"
   },
   "outputs": [],
   "source": []
  },
  {
   "cell_type": "markdown",
   "metadata": {
    "id": "uulxo5y-hcvo"
   },
   "source": [
    "**6. select the rows where the number of visits is less than 4**"
   ]
  },
  {
   "cell_type": "code",
   "execution_count": null,
   "metadata": {
    "id": "6Khj7LfZhcvq"
   },
   "outputs": [],
   "source": []
  },
  {
   "cell_type": "markdown",
   "metadata": {
    "id": "sB8icEBVhcvy"
   },
   "source": [
    "**7. select the rows with columns ['birds', 'visits'] where the age is missing i.e NaN**"
   ]
  },
  {
   "cell_type": "code",
   "execution_count": null,
   "metadata": {
    "id": "dHoZ2z2ghcv2"
   },
   "outputs": [],
   "source": []
  },
  {
   "cell_type": "markdown",
   "metadata": {
    "id": "sgiIkh1Ghcv-"
   },
   "source": [
    "**8. Select the rows where the birds is a Cranes and the age is less than 4**"
   ]
  },
  {
   "cell_type": "code",
   "execution_count": null,
   "metadata": {
    "id": "4of7A8gehcwC"
   },
   "outputs": [],
   "source": []
  },
  {
   "cell_type": "markdown",
   "metadata": {
    "id": "IZrFrd1AhcwH"
   },
   "source": [
    "**9. Select the rows the age is between 2 and 4(inclusive)**"
   ]
  },
  {
   "cell_type": "code",
   "execution_count": null,
   "metadata": {
    "id": "Ij6co9oJhcwT"
   },
   "outputs": [],
   "source": []
  },
  {
   "cell_type": "markdown",
   "metadata": {
    "id": "KvV1eyyehcwX"
   },
   "source": [
    "**10. Find the total number of visits of the bird Cranes**"
   ]
  },
  {
   "cell_type": "code",
   "execution_count": null,
   "metadata": {
    "id": "y5NyL569hcwY"
   },
   "outputs": [],
   "source": []
  },
  {
   "cell_type": "markdown",
   "metadata": {
    "id": "S-1B7oDehcwf"
   },
   "source": [
    "**11. Calculate the mean age for each different birds in dataframe.**"
   ]
  },
  {
   "cell_type": "code",
   "execution_count": null,
   "metadata": {
    "id": "ljKjf7nyhcwg"
   },
   "outputs": [],
   "source": []
  },
  {
   "cell_type": "markdown",
   "metadata": {
    "id": "B5HIznnMhcwl"
   },
   "source": [
    "**12. Append a new row 'k' to dataframe with your choice of values for each column. Then delete that row to return the original DataFrame.**"
   ]
  },
  {
   "cell_type": "code",
   "execution_count": null,
   "metadata": {
    "id": "GDDd9mXEhcwm"
   },
   "outputs": [],
   "source": []
  },
  {
   "cell_type": "markdown",
   "metadata": {
    "id": "_cLx6xLahcwq"
   },
   "source": [
    "**13. Find the number of each type of birds in dataframe (Counts)**"
   ]
  },
  {
   "cell_type": "code",
   "execution_count": null,
   "metadata": {
    "id": "aTHV8JJMhcws"
   },
   "outputs": [],
   "source": []
  },
  {
   "cell_type": "markdown",
   "metadata": {
    "id": "-SJ6OYuYhcww"
   },
   "source": [
    "**14. Sort dataframe (birds) first by the values in the 'age' in decending order, then by the value in the 'visits' column in ascending order.**"
   ]
  },
  {
   "cell_type": "code",
   "execution_count": null,
   "metadata": {
    "id": "1oeqEqBjhcwy"
   },
   "outputs": [],
   "source": []
  },
  {
   "cell_type": "markdown",
   "metadata": {
    "id": "JaKj7ZQUhcw7"
   },
   "source": [
    "**15. Replace the priority column values with'yes' should be 1 and 'no' should be 0**"
   ]
  },
  {
   "cell_type": "code",
   "execution_count": null,
   "metadata": {
    "id": "AJAPYiIHhcw9"
   },
   "outputs": [],
   "source": []
  },
  {
   "cell_type": "markdown",
   "metadata": {
    "id": "E2EFmujbhcxA"
   },
   "source": [
    "**16. In the 'birds' column, change the 'Cranes' entries to 'trumpeters'.**"
   ]
  },
  {
   "cell_type": "code",
   "execution_count": null,
   "metadata": {
    "id": "Bi29Cc6lhcxC"
   },
   "outputs": [],
   "source": []
  }
 ],
 "metadata": {
  "colab": {
   "name": "pandas_basics_practice.ipynb",
   "provenance": []
  },
  "kernelspec": {
   "display_name": "Python 3 (ipykernel)",
   "language": "python",
   "name": "python3"
  },
  "language_info": {
   "codemirror_mode": {
    "name": "ipython",
    "version": 3
   },
   "file_extension": ".py",
   "mimetype": "text/x-python",
   "name": "python",
   "nbconvert_exporter": "python",
   "pygments_lexer": "ipython3",
   "version": "3.9.7"
  }
 },
 "nbformat": 4,
 "nbformat_minor": 1
}
