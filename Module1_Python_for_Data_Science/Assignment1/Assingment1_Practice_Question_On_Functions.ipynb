{
 "cells": [
  {
   "cell_type": "markdown",
   "id": "a2ff398c",
   "metadata": {},
   "source": [
    "# Practice Question on Functions"
   ]
  },
  {
   "cell_type": "markdown",
   "id": "f44dd04d",
   "metadata": {},
   "source": [
    "## 1. Write a function that inputs a number and prints the multiplication table of that number"
   ]
  },
  {
   "cell_type": "code",
   "execution_count": 203,
   "id": "bfcc872a",
   "metadata": {},
   "outputs": [
    {
     "name": "stdout",
     "output_type": "stream",
     "text": [
      "Enter your value in Range(1-100): 10\n",
      "1 x 10 = 10\n",
      "2 x 10 = 20\n",
      "3 x 10 = 30\n",
      "4 x 10 = 40\n",
      "5 x 10 = 50\n",
      "6 x 10 = 60\n",
      "7 x 10 = 70\n",
      "8 x 10 = 80\n",
      "9 x 10 = 90\n",
      "10 x 10 = 100\n"
     ]
    }
   ],
   "source": [
    "import sys\n",
    "def get_input_number(num):\n",
    "    \"\"\"\n",
    "    @aug1: num - integer number for which multiplication table to be printed.\n",
    "    prints multiplication table from 1 to num\n",
    "    \"\"\"\n",
    "    count = 1\n",
    "    for index in range(1,num+1):\n",
    "        print(\"{} x {} = {}\".format(index, num, (index*num)))\n",
    "    \n",
    "try:\n",
    "    # PDF conversion failed while submitting assignement\n",
    "    #num = int(input('Enter your value in Range(1-100): '))\n",
    "    num = 100\n",
    "except ValueError:\n",
    "    print(\"Given num {} is not an int!\".format(num))\n",
    "    \n",
    "if ( num>=1 and num<=100):\n",
    "    get_input_number(num)\n",
    "else:\n",
    "    print(\"Given num {} is out of range and printing default multiplication Table\".format(num))\n",
    "    get_input_number(num=100)    \n",
    "    "
   ]
  },
  {
   "cell_type": "markdown",
   "id": "5b660833",
   "metadata": {},
   "source": [
    "## 2 . Write a program to print twin prime less than 1000. If two consecutive odd numbers are both prime then they are known as twin primes.\n"
   ]
  },
  {
   "cell_type": "code",
   "execution_count": 58,
   "id": "0af59277",
   "metadata": {
    "scrolled": false
   },
   "outputs": [
    {
     "name": "stdout",
     "output_type": "stream",
     "text": [
      "Twin Prime: (3, 5)\n",
      "Twin Prime: (5, 7)\n",
      "Twin Prime: (11, 13)\n",
      "Twin Prime: (17, 19)\n",
      "Twin Prime: (29, 31)\n",
      "Twin Prime: (41, 43)\n",
      "Twin Prime: (59, 61)\n",
      "Twin Prime: (71, 73)\n",
      "Twin Prime: (101, 103)\n",
      "Twin Prime: (107, 109)\n",
      "Twin Prime: (137, 139)\n",
      "Twin Prime: (149, 151)\n",
      "Twin Prime: (179, 181)\n",
      "Twin Prime: (191, 193)\n",
      "Twin Prime: (197, 199)\n",
      "Twin Prime: (227, 229)\n",
      "Twin Prime: (239, 241)\n",
      "Twin Prime: (269, 271)\n",
      "Twin Prime: (281, 283)\n",
      "Twin Prime: (311, 313)\n",
      "Twin Prime: (347, 349)\n",
      "Twin Prime: (419, 421)\n",
      "Twin Prime: (431, 433)\n",
      "Twin Prime: (461, 463)\n",
      "Twin Prime: (521, 523)\n",
      "Twin Prime: (569, 571)\n",
      "Twin Prime: (599, 601)\n",
      "Twin Prime: (617, 619)\n",
      "Twin Prime: (641, 643)\n",
      "Twin Prime: (659, 661)\n",
      "Twin Prime: (809, 811)\n",
      "Twin Prime: (821, 823)\n",
      "Twin Prime: (827, 829)\n",
      "Twin Prime: (857, 859)\n",
      "Twin Prime: (881, 883)\n"
     ]
    }
   ],
   "source": [
    "def print_prime(nums):\n",
    "    prev_prime = 1\n",
    "    curr_prime = 2\n",
    "    is_twine_prime = False\n",
    "    \n",
    "    for index in range(1,nums+1):\n",
    "        is_prime = True\n",
    "        if index == 1 or index == 2:\n",
    "            continue\n",
    "            \n",
    "        for count in range(2, index+1):\n",
    "            if index%count == 0 and index!=count:\n",
    "                is_prime=False   \n",
    "                break\n",
    "        if is_prime:\n",
    "            prev_prime = curr_prime\n",
    "            curr_prime = index\n",
    "            if prev_prime % 2 != 0 and curr_prime % 2 != 0  and prev_prime+2 == curr_prime:\n",
    "                print(\"Twin Prime: ({}, {})\".format(prev_prime, curr_prime))           \n",
    "            \n",
    "print_prime(nums=1000)        \n",
    "            "
   ]
  },
  {
   "cell_type": "markdown",
   "id": "dbf42c42",
   "metadata": {},
   "source": [
    "## 3. Write a program to find out the prime factors of a number. Ex. prime factors of 56- 2,2,2,7"
   ]
  },
  {
   "cell_type": "code",
   "execution_count": 59,
   "id": "1a6b72b8",
   "metadata": {},
   "outputs": [
    {
     "name": "stdout",
     "output_type": "stream",
     "text": [
      "[2, 2, 2, 7]\n"
     ]
    }
   ],
   "source": [
    "import math\n",
    "\n",
    "def print_prime_factor(nums):\n",
    "    num = nums\n",
    "    sqrt_num =  math.ceil(math.sqrt(nums))\n",
    "    factors = []\n",
    "    while num % 2 == 0 : #is even:\n",
    "        q = num / 2 \n",
    "        r = num % 2\n",
    "        if r == 0:\n",
    "            factors.append(2)\n",
    "        num = q\n",
    "    # range index starts from 0, so adding sqrt_num+1\n",
    "    for index in range(3, sqrt_num+1, 2):\n",
    "        q = num / index\n",
    "        r = num % index\n",
    "        if r == 0:\n",
    "            factors.append(index)\n",
    "    print(factors)\n",
    "print_prime_factor(56)    \n",
    "\n"
   ]
  },
  {
   "cell_type": "markdown",
   "id": "ecb90752",
   "metadata": {},
   "source": [
    "# 4. write a program to implement these formula of permutation and combinations. \n",
    "# Number of permutations of n objects taken r at a time: p(n,r)=n!/(n-r)!.\n",
    "# Number of combinations of n objects taken r at a time: c(n,r)=n!/(r!*(n-r)!)=p(n,r)/r!.\n"
   ]
  },
  {
   "cell_type": "code",
   "execution_count": 108,
   "id": "7bd1bec5",
   "metadata": {},
   "outputs": [
    {
     "name": "stdout",
     "output_type": "stream",
     "text": [
      "permutation(5,2)=20.0\n",
      "combination(5,2)=10.0\n"
     ]
    }
   ],
   "source": [
    "def fact(num):\n",
    "    if num==0 or num==1:\n",
    "        return 1\n",
    "    return num*fact(num-1)\n",
    "fact(5)\n",
    "\n",
    "def permutation(n,r):\n",
    "    permutation_n_r = fact(n)/fact(n-r)\n",
    "    return permutation_n_r\n",
    "\n",
    "def combination(n,r):\n",
    "    combination_n_r = fact(n)/(fact(r)*fact(n-r))\n",
    "    return combination_n_r\n",
    "    \n",
    "print(\"permutation(5,2)={}\".format(permutation(5,2)))\n",
    "print(\"combination(5,2)={}\".format(combination(5,2)))\n",
    "    "
   ]
  },
  {
   "cell_type": "markdown",
   "id": "28b92b70",
   "metadata": {},
   "source": [
    "## 5. Write a function that converts decimal number into a binary."
   ]
  },
  {
   "cell_type": "code",
   "execution_count": 207,
   "id": "cea2d85d",
   "metadata": {},
   "outputs": [
    {
     "name": "stdout",
     "output_type": "stream",
     "text": [
      "[1, 0, 1, 0]\n"
     ]
    }
   ],
   "source": [
    "# 10\n",
    "# 1, 2, 4, 8, 16,32, 64.\n",
    "\n",
    "import math\n",
    "def decimal_to_binary(num):\n",
    "    binary = []\n",
    "    while num > 1:\n",
    "        r = num % 2\n",
    "        q = math.floor(num / 2)\n",
    "       \n",
    "        binary.append(r)\n",
    "        if q == 1:\n",
    "            binary.append(q)\n",
    "        num = q\n",
    "        \n",
    "    print(binary[::-1])\n",
    "decimal_to_binary(10)    \n",
    "        \n",
    "        "
   ]
  },
  {
   "cell_type": "markdown",
   "id": "0d5d0019",
   "metadata": {},
   "source": [
    "# 6. write a function cubesum() that accepts an integer and returns the sum of the cubes of individual digits of that number. Use this function to make functions PrintAmstrong() and isAmstrong() to print Amstrong numbers and to find whether is an Amstrong number."
   ]
  },
  {
   "cell_type": "code",
   "execution_count": 208,
   "id": "296fb678",
   "metadata": {},
   "outputs": [
    {
     "name": "stdout",
     "output_type": "stream",
     "text": [
      "Given num:153,PrintAmstrong=153, isAmstrong=True \n"
     ]
    }
   ],
   "source": [
    "import math\n",
    "def cubesum(num): \n",
    "    sum = 0\n",
    "    while(num > 10 ):\n",
    "        reminder = num%10 # 2\n",
    "        q = math.floor(num/10)\n",
    "        num = q\n",
    "        sum += reminder * reminder * reminder\n",
    "    else :\n",
    "        sum += num * num * num\n",
    "    return sum\n",
    "\n",
    "\n",
    "\n",
    "def PrintAmstrong(num):\n",
    "    return cubesum(num)\n",
    "\n",
    "def isAmstrong(num):\n",
    "    return (num == PrintAmstrong(num))\n",
    "\n",
    "num = 153\n",
    "print(\"Given num:{},PrintAmstrong={}, isAmstrong={} \".format(num, PrintAmstrong(num), isAmstrong(num)))\n",
    "\n",
    "    "
   ]
  },
  {
   "cell_type": "markdown",
   "id": "77961363",
   "metadata": {},
   "source": [
    "# 7. write a function prodDigits() that inputs a number and returns the product of digits of that number."
   ]
  },
  {
   "cell_type": "code",
   "execution_count": 139,
   "id": "729427dc",
   "metadata": {},
   "outputs": [
    {
     "data": {
      "text/plain": [
       "24"
      ]
     },
     "execution_count": 139,
     "metadata": {},
     "output_type": "execute_result"
    }
   ],
   "source": [
    "def prodDigits(num):\n",
    "    product = 1\n",
    "    while(num > 0 ):\n",
    "        reminder = num%10 # 2\n",
    "        q = math.floor(num/10)\n",
    "        num = q\n",
    "        product *= reminder\n",
    "    return product\n",
    "prodDigits(1234)    "
   ]
  },
  {
   "cell_type": "markdown",
   "id": "d8cc2e7f",
   "metadata": {},
   "source": [
    "# 8. If all digits of a number n are multiplied by each other repeating with the product, the one digit number obtained at last is called the multiplicative digital root of n. The number of times digits need to be multiplied to reach one digit is called the multiplicative persistence of n.\n",
    "\n",
    "# Example:\n",
    "# 86->48->32->6 (MDR 6, Mpersistence 3)\n",
    "# 341->12->1  (MDR 2, Mpersistence 2)\n",
    "# using the function prodDigits() of previous excercise write functions MDR() and MPersistence() that input a number and return its multiplicative digital root and multiplicative persistence respectively.\n"
   ]
  },
  {
   "cell_type": "code",
   "execution_count": 144,
   "id": "2b14e6aa",
   "metadata": {},
   "outputs": [
    {
     "name": "stdout",
     "output_type": "stream",
     "text": [
      "Given Num:86, MDR:6, MPersistence:3\n"
     ]
    }
   ],
   "source": [
    "def MDR(num):\n",
    "    return prodDigits(num) \n",
    "    \n",
    "    \n",
    "def MPersistence(num):\n",
    "    mdr_of_num = MDR(num)\n",
    "    m_persistence_of_num = 0\n",
    "    \n",
    "    while mdr_of_num > 10:\n",
    "        m_persistence_of_num += 1\n",
    "        mdr_of_num = MDR(mdr_of_num)        \n",
    "    else:\n",
    "        m_persistence_of_num += 1\n",
    "    \n",
    "    return mdr_of_num,m_persistence_of_num\n",
    "\n",
    "num=86\n",
    "mdr,m_persistence = MPersistence(num)\n",
    "print(\"Given Num:{}, MDR:{}, MPersistence:{}\".format(num,mdr,m_persistence))\n"
   ]
  },
  {
   "cell_type": "markdown",
   "id": "860cb811",
   "metadata": {},
   "source": [
    "## 9. Write a function sumPdivisors() that finds the sum of proper divisors of a number. Proper divisors of a number are those numbers by which the number is divisible, except the number itself. For example proper divisors of 36 are 1,2,3,4,6,9,12,18\n"
   ]
  },
  {
   "cell_type": "code",
   "execution_count": 173,
   "id": "f77f2e1a",
   "metadata": {},
   "outputs": [
    {
     "data": {
      "text/plain": [
       "[1, 2, 3, 4, 6, 9, 12, 18]"
      ]
     },
     "execution_count": 173,
     "metadata": {},
     "output_type": "execute_result"
    }
   ],
   "source": [
    "def sumPdivisors(num):\n",
    "    proper_divisor = [1]\n",
    "    for index in range(2,num):\n",
    "        if num%index == 0:\n",
    "            proper_divisor.append(index)\n",
    "    return proper_divisor\n",
    "\n",
    "sumPdivisors(36)    \n",
    "#sumPdivisors(4)    "
   ]
  },
  {
   "cell_type": "markdown",
   "id": "1f00caa6",
   "metadata": {},
   "source": [
    "# 10. A number is called perfect if the sum of proper divisors of that number is equal to the number. For example 28 is perfect number, since 1+2+4+7+14=28. Write a program to print all the perfect numbers in a given range.\n"
   ]
  },
  {
   "cell_type": "code",
   "execution_count": 163,
   "id": "6c90772f",
   "metadata": {},
   "outputs": [
    {
     "data": {
      "text/plain": [
       "[1, 6, 28, 496, 8128]"
      ]
     },
     "execution_count": 163,
     "metadata": {},
     "output_type": "execute_result"
    }
   ],
   "source": [
    "def perfect_prime(num):\n",
    "    \n",
    "    perfect_nums = []\n",
    "    for index in range(1,num+1):\n",
    "        sum_divisor = 0\n",
    "        for divisor in sumPdivisors(index):\n",
    "            sum_divisor += divisor\n",
    "        if (sum_divisor == index):\n",
    "            perfect_nums.append(index)\n",
    "    #print(perfect_nums)\n",
    "    return perfect_nums\n",
    "perfect_prime(10000)"
   ]
  },
  {
   "cell_type": "markdown",
   "id": "e2a1e6de",
   "metadata": {},
   "source": [
    "# 11. Two different numbers are called amicable numbers if the sum of the proper divisors of each is equals to the other number. For example 220 and 284 are amicable numbers.\n",
    "# Sum of proper divisors of 220 = 1+2+4+5+10+11+2-+22+44+55+110 = 284\n",
    "# Sum of proper divisors of 284 = 1+2+4+71+142 = 220\n",
    "# write a function to print pairs of amicable numbers in a range.\n",
    "\n",
    "\n",
    "\n",
    "\n"
   ]
  },
  {
   "cell_type": "code",
   "execution_count": 194,
   "id": "ee12cb79",
   "metadata": {},
   "outputs": [
    {
     "data": {
      "text/plain": [
       "{1: 1,\n",
       " 4: 3,\n",
       " 6: 6,\n",
       " 8: 7,\n",
       " 12: 16,\n",
       " 14: 10,\n",
       " 15: 9,\n",
       " 18: 21,\n",
       " 20: 22,\n",
       " 21: 11,\n",
       " 24: 36,\n",
       " 26: 16,\n",
       " 27: 13,\n",
       " 28: 28,\n",
       " 30: 42,\n",
       " 32: 31,\n",
       " 35: 13,\n",
       " 36: 55,\n",
       " 38: 22,\n",
       " 39: 17,\n",
       " 40: 50,\n",
       " 42: 54,\n",
       " 45: 33,\n",
       " 48: 76,\n",
       " 50: 43,\n",
       " 52: 46,\n",
       " 54: 66,\n",
       " 55: 17,\n",
       " 56: 64,\n",
       " 57: 23,\n",
       " 60: 108,\n",
       " 62: 34,\n",
       " 63: 41,\n",
       " 65: 19,\n",
       " 66: 78,\n",
       " 68: 58,\n",
       " 70: 74,\n",
       " 72: 123,\n",
       " 75: 49,\n",
       " 76: 64,\n",
       " 77: 19,\n",
       " 78: 90,\n",
       " 80: 106,\n",
       " 82: 44,\n",
       " 84: 140,\n",
       " 85: 23,\n",
       " 86: 46,\n",
       " 87: 33,\n",
       " 88: 92,\n",
       " 90: 144,\n",
       " 95: 25,\n",
       " 96: 156,\n",
       " 98: 73,\n",
       " 100: 117,\n",
       " 102: 114,\n",
       " 104: 106,\n",
       " 108: 172,\n",
       " 110: 106,\n",
       " 111: 41,\n",
       " 112: 136,\n",
       " 114: 126,\n",
       " 115: 29,\n",
       " 116: 94,\n",
       " 119: 25,\n",
       " 120: 240,\n",
       " 122: 64,\n",
       " 125: 31,\n",
       " 126: 186,\n",
       " 128: 127,\n",
       " 129: 47,\n",
       " 132: 204,\n",
       " 135: 105,\n",
       " 136: 134,\n",
       " 138: 150,\n",
       " 140: 196,\n",
       " 141: 51,\n",
       " 142: 74,\n",
       " 143: 25,\n",
       " 144: 259,\n",
       " 147: 81,\n",
       " 148: 118,\n",
       " 150: 222,\n",
       " 153: 81,\n",
       " 154: 134,\n",
       " 155: 37,\n",
       " 156: 236,\n",
       " 160: 218,\n",
       " 161: 31,\n",
       " 162: 201,\n",
       " 164: 130,\n",
       " 165: 123,\n",
       " 171: 89,\n",
       " 174: 186,\n",
       " 175: 73,\n",
       " 176: 196,\n",
       " 178: 92,\n",
       " 185: 43,\n",
       " 186: 198,\n",
       " 187: 29,\n",
       " 189: 131,\n",
       " 190: 170,\n",
       " 196: 203,\n",
       " 198: 270,\n",
       " 200: 265,\n",
       " 201: 71,\n",
       " 203: 37,\n",
       " 205: 47,\n",
       " 206: 106,\n",
       " 207: 105,\n",
       " 208: 226,\n",
       " 209: 31,\n",
       " 212: 166,\n",
       " 215: 49,\n",
       " 220: 284,\n",
       " 221: 31,\n",
       " 222: 234,\n",
       " 224: 280,\n",
       " 230: 202,\n",
       " 232: 218,\n",
       " 235: 53,\n",
       " 236: 184,\n",
       " 237: 83,\n",
       " 238: 194,\n",
       " 242: 157,\n",
       " 243: 121,\n",
       " 245: 97,\n",
       " 246: 258,\n",
       " 247: 33,\n",
       " 250: 218,\n",
       " 254: 130,\n",
       " 255: 177,\n",
       " 258: 270,\n",
       " 262: 134,\n",
       " 265: 59,\n",
       " 266: 214,\n",
       " 267: 93,\n",
       " 272: 286,\n",
       " 275: 97,\n",
       " 279: 137,\n",
       " 282: 294,\n",
       " 285: 195,\n",
       " 286: 218,\n",
       " 287: 49,\n",
       " 291: 101,\n",
       " 292: 226,\n",
       " 296: 274,\n",
       " 297: 183,\n",
       " 298: 152,\n",
       " 299: 37}"
      ]
     },
     "execution_count": 194,
     "metadata": {},
     "output_type": "execute_result"
    }
   ],
   "source": [
    "\n",
    "def get_num_sum_divisor(num):    \n",
    "    sum_divisor = 0\n",
    "    for divisor in sumPdivisors(num):\n",
    "        sum_divisor += divisor\n",
    "    return sum_divisor\n",
    "#print(get_num_sum_divisor(220))\n",
    "#print(get_num_sum_divisor(284))\n",
    "\n",
    "\n",
    "def print_amicable_numbers(nums):\n",
    "    num_sum_divisor_dict = {}\n",
    "    amicable_numbers = {}\n",
    "    for index in range(1,nums):\n",
    "        num_sum_divisor_dict[index] = get_num_sum_divisor(index)\n",
    "    \n",
    "    for index, (k,v) in enumerate(num_sum_divisor_dict.items()):\n",
    "        if v in num_sum_divisor_dict:\n",
    "            if v not in amicable_numbers:\n",
    "                amicable_numbers[k] = v\n",
    "    return amicable_numbers\n",
    "\n",
    "print_amicable_numbers(300)            \n",
    "    "
   ]
  },
  {
   "cell_type": "markdown",
   "id": "30c94f6a",
   "metadata": {},
   "source": [
    "## 12. write a program which can filter odd numbers in a list by using filter function"
   ]
  },
  {
   "cell_type": "code",
   "execution_count": 66,
   "id": "47009a8f",
   "metadata": {},
   "outputs": [
    {
     "name": "stdout",
     "output_type": "stream",
     "text": [
      "0\n",
      "2\n",
      "4\n",
      "6\n",
      "8\n"
     ]
    }
   ],
   "source": [
    "def filter_odd(num):\n",
    "    return (num%2==0)\n",
    "\n",
    "nums = list(range(10))\n",
    "\n",
    "odd_nums_filter_out = filter(filter_odd, nums)\n",
    "\n",
    "for item in odd_nums_filter_out:\n",
    "    print(item)"
   ]
  },
  {
   "cell_type": "markdown",
   "id": "4846c6e3",
   "metadata": {},
   "source": [
    "## 13. write a program which can map() to make a list whose elements are cube of elements in a given list"
   ]
  },
  {
   "cell_type": "code",
   "execution_count": 198,
   "id": "2e17ac72",
   "metadata": {},
   "outputs": [
    {
     "name": "stdout",
     "output_type": "stream",
     "text": [
      "idx=0, cube value=0\n",
      "idx=1, cube value=1\n",
      "idx=2, cube value=8\n",
      "idx=3, cube value=27\n",
      "idx=4, cube value=64\n",
      "idx=5, cube value=125\n",
      "idx=6, cube value=216\n",
      "idx=7, cube value=343\n",
      "idx=8, cube value=512\n",
      "idx=9, cube value=729\n"
     ]
    }
   ],
   "source": [
    "def get_cubic_elements(num) :\n",
    "    return num*num*num\n",
    "get_cubic_elements(4)\n",
    "\n",
    "nums = list(range(10))\n",
    "odd_nums_filter_out = map(get_cubic_elements, nums)\n",
    "for idx, item in enumerate(odd_nums_filter_out):\n",
    "    print(\"idx={}, cube value={}\".format(idx,item))\n",
    "    \n"
   ]
  },
  {
   "cell_type": "markdown",
   "id": "859e8b41",
   "metadata": {},
   "source": [
    "# 14. write a program which can map() and filter() to make a list whose elements are cube of even number in a given list.\n"
   ]
  },
  {
   "cell_type": "code",
   "execution_count": 202,
   "id": "fac5ff5e",
   "metadata": {},
   "outputs": [
    {
     "name": "stdout",
     "output_type": "stream",
     "text": [
      "idx=0, cube value=0\n",
      "idx=1, cube value=8\n",
      "idx=2, cube value=64\n",
      "idx=3, cube value=216\n",
      "idx=4, cube value=512\n"
     ]
    }
   ],
   "source": [
    "nums = list(range(10))\n",
    "odd_nums_filter_out = filter(filter_odd, map(get_cubic_elements, nums))\n",
    "for idx, item in enumerate(odd_nums_filter_out):\n",
    "    print(\"idx={}, cube value={}\".format(idx,item))\n",
    "    \n"
   ]
  }
 ],
 "metadata": {
  "kernelspec": {
   "display_name": "Python 3 (ipykernel)",
   "language": "python",
   "name": "python3"
  },
  "language_info": {
   "codemirror_mode": {
    "name": "ipython",
    "version": 3
   },
   "file_extension": ".py",
   "mimetype": "text/x-python",
   "name": "python",
   "nbconvert_exporter": "python",
   "pygments_lexer": "ipython3",
   "version": "3.9.7"
  }
 },
 "nbformat": 4,
 "nbformat_minor": 5
}
