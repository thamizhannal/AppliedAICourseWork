{
 "cells": [
  {
   "cell_type": "code",
   "execution_count": 3,
   "metadata": {
    "scrolled": true
   },
   "outputs": [
    {
     "ename": "FileNotFoundError",
     "evalue": "[Errno 2] No such file or directory: '../nyc_weather.csv'",
     "output_type": "error",
     "traceback": [
      "\u001b[1;31m---------------------------------------------------------------------------\u001b[0m",
      "\u001b[1;31mFileNotFoundError\u001b[0m                         Traceback (most recent call last)",
      "\u001b[1;32m~\\AppData\\Local\\Temp/ipykernel_25140/2670455653.py\u001b[0m in \u001b[0;36m<module>\u001b[1;34m\u001b[0m\n\u001b[0;32m     48\u001b[0m \u001b[1;33m\u001b[0m\u001b[0m\n\u001b[0;32m     49\u001b[0m \u001b[1;32mif\u001b[0m \u001b[0m__name__\u001b[0m \u001b[1;33m==\u001b[0m \u001b[1;34m'__main__'\u001b[0m\u001b[1;33m:\u001b[0m\u001b[1;33m\u001b[0m\u001b[1;33m\u001b[0m\u001b[0m\n\u001b[1;32m---> 50\u001b[1;33m     \u001b[0mparse_csv\u001b[0m\u001b[1;33m(\u001b[0m\u001b[1;33m)\u001b[0m\u001b[1;33m\u001b[0m\u001b[1;33m\u001b[0m\u001b[0m\n\u001b[0m\u001b[0;32m     51\u001b[0m \u001b[1;33m\u001b[0m\u001b[0m\n\u001b[0;32m     52\u001b[0m     \u001b[0mprint\u001b[0m \u001b[1;33m(\u001b[0m\u001b[1;34m\"Max Temperature is : \"\u001b[0m \u001b[1;33m+\u001b[0m \u001b[0mstr\u001b[0m\u001b[1;33m(\u001b[0m\u001b[0mget_max_temperature\u001b[0m\u001b[1;33m(\u001b[0m\u001b[1;33m)\u001b[0m\u001b[1;33m)\u001b[0m\u001b[1;33m)\u001b[0m\u001b[1;33m\u001b[0m\u001b[1;33m\u001b[0m\u001b[0m\n",
      "\u001b[1;32m~\\AppData\\Local\\Temp/ipykernel_25140/2670455653.py\u001b[0m in \u001b[0;36mparse_csv\u001b[1;34m()\u001b[0m\n\u001b[0;32m      6\u001b[0m \u001b[1;33m\u001b[0m\u001b[0m\n\u001b[0;32m      7\u001b[0m     \u001b[1;32mglobal\u001b[0m \u001b[0m_parsed_rows\u001b[0m\u001b[1;33m\u001b[0m\u001b[1;33m\u001b[0m\u001b[0m\n\u001b[1;32m----> 8\u001b[1;33m     \u001b[1;32mwith\u001b[0m \u001b[0mopen\u001b[0m\u001b[1;33m(\u001b[0m\u001b[0m_file_path\u001b[0m\u001b[1;33m,\u001b[0m \u001b[1;34m\"r\"\u001b[0m\u001b[1;33m)\u001b[0m \u001b[1;32mas\u001b[0m \u001b[0mf\u001b[0m\u001b[1;33m:\u001b[0m\u001b[1;33m\u001b[0m\u001b[1;33m\u001b[0m\u001b[0m\n\u001b[0m\u001b[0;32m      9\u001b[0m         \u001b[0mreader\u001b[0m \u001b[1;33m=\u001b[0m \u001b[0mcsv\u001b[0m\u001b[1;33m.\u001b[0m\u001b[0mreader\u001b[0m\u001b[1;33m(\u001b[0m\u001b[0mf\u001b[0m\u001b[1;33m,\u001b[0m \u001b[0mdelimiter\u001b[0m\u001b[1;33m=\u001b[0m\u001b[1;34m','\u001b[0m\u001b[1;33m)\u001b[0m\u001b[1;33m\u001b[0m\u001b[1;33m\u001b[0m\u001b[0m\n\u001b[0;32m     10\u001b[0m         \u001b[0mreader\u001b[0m\u001b[1;33m.\u001b[0m\u001b[0mnext\u001b[0m\u001b[1;33m(\u001b[0m\u001b[1;33m)\u001b[0m\u001b[1;33m\u001b[0m\u001b[1;33m\u001b[0m\u001b[0m\n",
      "\u001b[1;31mFileNotFoundError\u001b[0m: [Errno 2] No such file or directory: '../nyc_weather.csv'"
     ]
    }
   ],
   "source": [
    "_parsed_rows = []\n",
    "\n",
    "def parse_csv():\n",
    "    import csv\n",
    "    _file_path = \"../nyc_weather.csv\"\n",
    "\n",
    "    global _parsed_rows\n",
    "    with open(_file_path, \"r\") as f:\n",
    "        reader = csv.reader(f, delimiter=',')\n",
    "        reader.next()\n",
    "        for row in reader:\n",
    "            _parsed_rows.append({\n",
    "                'date':  row[0],\n",
    "                'temperature': row[1],\n",
    "                'DewPoint': row[2],\n",
    "                'Humidity': row[3],\n",
    "                'Sea_Level_PressureIn': row[4],\n",
    "                'VisibilityMiles': row[5],\n",
    "                'WindSpeedMPH': row[6],\n",
    "                'PrecipitationIn': row[7],\n",
    "                'CloudCover': row[8],\n",
    "                'Events': row[9],\n",
    "                'WindDirDegrees': row[10]\n",
    "            })\n",
    "            \n",
    "def get_max_temperature():\n",
    "    max_temp = 0\n",
    "    for row in _parsed_rows:\n",
    "        if int(row['temperature']) > max_temp:\n",
    "            max_temp = int(row['temperature'])\n",
    "    return max_temp\n",
    "\n",
    "def get_days_of_rain(event):\n",
    "    days = []\n",
    "    for row in _parsed_rows:\n",
    "        if row['Events'] == event:\n",
    "            days.append(row['date'])\n",
    "    return days\n",
    "\n",
    "def get_avg_wind_speed():\n",
    "    total = 0\n",
    "    count = 0\n",
    "    for row in _parsed_rows:\n",
    "        speed = 0 if row['WindSpeedMPH']=='' else int(row['WindSpeedMPH'])\n",
    "        total += speed\n",
    "        count += 1\n",
    "    return float(total/count)\n",
    "\n",
    "if __name__ == '__main__':\n",
    "    parse_csv()\n",
    "    \n",
    "    print (\"Max Temperature is : \" + str(get_max_temperature()))\n",
    "    print (\"Days of rain : \" + str(get_days_of_rain('Rain')))\n",
    "    print (\"Average wind speed is : \" + str(get_avg_wind_speed()))"
   ]
  },
  {
   "cell_type": "code",
   "execution_count": null,
   "metadata": {
    "collapsed": true
   },
   "outputs": [],
   "source": []
  }
 ],
 "metadata": {
  "kernelspec": {
   "display_name": "Python 3 (ipykernel)",
   "language": "python",
   "name": "python3"
  },
  "language_info": {
   "codemirror_mode": {
    "name": "ipython",
    "version": 3
   },
   "file_extension": ".py",
   "mimetype": "text/x-python",
   "name": "python",
   "nbconvert_exporter": "python",
   "pygments_lexer": "ipython3",
   "version": "3.9.7"
  }
 },
 "nbformat": 4,
 "nbformat_minor": 2
}
